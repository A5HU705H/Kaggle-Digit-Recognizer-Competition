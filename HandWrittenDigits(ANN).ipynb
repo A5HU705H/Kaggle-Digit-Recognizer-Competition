{
  "nbformat": 4,
  "nbformat_minor": 0,
  "metadata": {
    "colab": {
      "name": "HandWrittenDigits(ANN).ipynb",
      "provenance": [],
      "toc_visible": true
    },
    "kernelspec": {
      "name": "python3",
      "display_name": "Python 3"
    },
    "language_info": {
      "name": "python"
    }
  },
  "cells": [
    {
      "cell_type": "code",
      "execution_count": 2,
      "metadata": {
        "id": "X6LpSG-dncJ8"
      },
      "outputs": [],
      "source": [
        "import tensorflow as tf\n",
        "import cv2 as cv\n",
        "import numpy as np \n",
        "import pandas as pd"
      ]
    },
    {
      "cell_type": "code",
      "source": [
        "from google.colab import drive\n",
        "drive.mount('/content/drive')\n",
        "! unzip /content/drive/MyDrive/train.csv.zip\n",
        "! unzip /content/drive/MyDrive/test.csv.zip"
      ],
      "metadata": {
        "colab": {
          "base_uri": "https://localhost:8080/"
        },
        "id": "5FGPoxbwuQ67",
        "outputId": "752b61a0-8475-4aaa-d01b-22847dde9dfe"
      },
      "execution_count": 3,
      "outputs": [
        {
          "output_type": "stream",
          "name": "stdout",
          "text": [
            "Mounted at /content/drive\n",
            "Archive:  /content/drive/MyDrive/train.csv.zip\n",
            "  inflating: train.csv               \n",
            "Archive:  /content/drive/MyDrive/test.csv.zip\n",
            "  inflating: test.csv                \n"
          ]
        }
      ]
    },
    {
      "cell_type": "code",
      "source": [
        "dataset = pd.read_csv('train.csv')\n",
        "print(dataset.head())\n",
        "X_train = dataset.iloc[:,1:].values\n",
        "y_train= dataset.iloc[:,:1]\n",
        "dataset1 = pd.read_csv('test.csv')\n",
        "X_test = dataset1.iloc[:,:].values\n"
      ],
      "metadata": {
        "colab": {
          "base_uri": "https://localhost:8080/"
        },
        "id": "9qxeSzSZuwFD",
        "outputId": "5af65f7b-d599-421a-9c5e-5bed7b25ead1"
      },
      "execution_count": 4,
      "outputs": [
        {
          "output_type": "stream",
          "name": "stdout",
          "text": [
            "   label  pixel0  pixel1  pixel2  pixel3  pixel4  pixel5  pixel6  pixel7  \\\n",
            "0      1       0       0       0       0       0       0       0       0   \n",
            "1      0       0       0       0       0       0       0       0       0   \n",
            "2      1       0       0       0       0       0       0       0       0   \n",
            "3      4       0       0       0       0       0       0       0       0   \n",
            "4      0       0       0       0       0       0       0       0       0   \n",
            "\n",
            "   pixel8  ...  pixel774  pixel775  pixel776  pixel777  pixel778  pixel779  \\\n",
            "0       0  ...         0         0         0         0         0         0   \n",
            "1       0  ...         0         0         0         0         0         0   \n",
            "2       0  ...         0         0         0         0         0         0   \n",
            "3       0  ...         0         0         0         0         0         0   \n",
            "4       0  ...         0         0         0         0         0         0   \n",
            "\n",
            "   pixel780  pixel781  pixel782  pixel783  \n",
            "0         0         0         0         0  \n",
            "1         0         0         0         0  \n",
            "2         0         0         0         0  \n",
            "3         0         0         0         0  \n",
            "4         0         0         0         0  \n",
            "\n",
            "[5 rows x 785 columns]\n"
          ]
        }
      ]
    },
    {
      "cell_type": "code",
      "source": [
        ""
      ],
      "metadata": {
        "id": "ACJJ72x1fuC8"
      },
      "execution_count": null,
      "outputs": []
    },
    {
      "cell_type": "code",
      "source": [
        "from sklearn.preprocessing import StandardScaler\n",
        "from keras.utils import np_utils\n",
        "sc = StandardScaler()\n",
        "X_train = sc.fit_transform(X_train)\n",
        "X_test = sc.transform(X_test)\n",
        "from sklearn.compose import ColumnTransformer\n",
        "from sklearn.preprocessing import OneHotEncoder\n",
        "ohe = OneHotEncoder()\n",
        "# y_train = ohe.fit_transform(y_train)"
      ],
      "metadata": {
        "id": "sDaFRTW32lV8"
      },
      "execution_count": 5,
      "outputs": []
    },
    {
      "cell_type": "code",
      "source": [
        "ct = ColumnTransformer(transformers=[('encoder', OneHotEncoder(), [0])], remainder='passthrough')\n",
        "dummy_y = np_utils.to_categorical(y_train)\n",
        "print(dummy_y)"
      ],
      "metadata": {
        "colab": {
          "base_uri": "https://localhost:8080/"
        },
        "id": "z3sClbmPlApV",
        "outputId": "a358ceda-abd6-4491-c90e-2b46b2a7b880"
      },
      "execution_count": 6,
      "outputs": [
        {
          "output_type": "stream",
          "name": "stdout",
          "text": [
            "[[0. 1. 0. ... 0. 0. 0.]\n",
            " [1. 0. 0. ... 0. 0. 0.]\n",
            " [0. 1. 0. ... 0. 0. 0.]\n",
            " ...\n",
            " [0. 0. 0. ... 1. 0. 0.]\n",
            " [0. 0. 0. ... 0. 0. 0.]\n",
            " [0. 0. 0. ... 0. 0. 1.]]\n"
          ]
        }
      ]
    },
    {
      "cell_type": "code",
      "source": [
        "x_array = np.asarray(X_train)\n",
        "y_array = np.asarray(y_train)\n",
        "x_array = np.asarray(x_array).astype('float32')"
      ],
      "metadata": {
        "id": "YQre29pC30NB"
      },
      "execution_count": 42,
      "outputs": []
    },
    {
      "cell_type": "code",
      "source": [
        "ann = tf.keras.models.Sequential()\n",
        "ann.add(tf.keras.layers.Dense(units=32, activation='relu'))\n",
        "ann.add(tf.keras.layers.Dense(units=32, activation='relu'))\n",
        "ann.add(tf.keras.layers.Dense(units=32, activation='relu'))\n",
        "ann.add(tf.keras.layers.Dense(units=10, activation='softmax'))\n",
        "ann.compile(optimizer = 'adam', loss = 'categorical_crossentropy', metrics = ['accuracy'])\n",
        "ann.fit(X_train, dummy_y, batch_size = 32, epochs = 25)"
      ],
      "metadata": {
        "colab": {
          "base_uri": "https://localhost:8080/"
        },
        "id": "FjNb6YKa2njk",
        "outputId": "224525ea-cdd7-4db2-d5e7-6bdcbdfe9901"
      },
      "execution_count": 8,
      "outputs": [
        {
          "output_type": "stream",
          "name": "stdout",
          "text": [
            "Epoch 1/25\n",
            "1313/1313 [==============================] - 3s 2ms/step - loss: 0.3591 - accuracy: 0.8915\n",
            "Epoch 2/25\n",
            "1313/1313 [==============================] - 3s 2ms/step - loss: 0.1530 - accuracy: 0.9531\n",
            "Epoch 3/25\n",
            "1313/1313 [==============================] - 3s 2ms/step - loss: 0.1177 - accuracy: 0.9632\n",
            "Epoch 4/25\n",
            "1313/1313 [==============================] - 2s 2ms/step - loss: 0.0950 - accuracy: 0.9702\n",
            "Epoch 5/25\n",
            "1313/1313 [==============================] - 2s 2ms/step - loss: 0.0788 - accuracy: 0.9743\n",
            "Epoch 6/25\n",
            "1313/1313 [==============================] - 2s 2ms/step - loss: 0.0652 - accuracy: 0.9793\n",
            "Epoch 7/25\n",
            "1313/1313 [==============================] - 3s 2ms/step - loss: 0.0563 - accuracy: 0.9812\n",
            "Epoch 8/25\n",
            "1313/1313 [==============================] - 3s 2ms/step - loss: 0.0526 - accuracy: 0.9821\n",
            "Epoch 9/25\n",
            "1313/1313 [==============================] - 2s 2ms/step - loss: 0.0456 - accuracy: 0.9844\n",
            "Epoch 10/25\n",
            "1313/1313 [==============================] - 3s 2ms/step - loss: 0.0392 - accuracy: 0.9873\n",
            "Epoch 11/25\n",
            "1313/1313 [==============================] - 3s 2ms/step - loss: 0.0372 - accuracy: 0.9874\n",
            "Epoch 12/25\n",
            "1313/1313 [==============================] - 3s 2ms/step - loss: 0.0329 - accuracy: 0.9888\n",
            "Epoch 13/25\n",
            "1313/1313 [==============================] - 3s 2ms/step - loss: 0.0304 - accuracy: 0.9900\n",
            "Epoch 14/25\n",
            "1313/1313 [==============================] - 3s 2ms/step - loss: 0.0296 - accuracy: 0.9898\n",
            "Epoch 15/25\n",
            "1313/1313 [==============================] - 3s 2ms/step - loss: 0.0258 - accuracy: 0.9911\n",
            "Epoch 16/25\n",
            "1313/1313 [==============================] - 2s 2ms/step - loss: 0.0271 - accuracy: 0.9908\n",
            "Epoch 17/25\n",
            "1313/1313 [==============================] - 3s 2ms/step - loss: 0.0232 - accuracy: 0.9919\n",
            "Epoch 18/25\n",
            "1313/1313 [==============================] - 3s 2ms/step - loss: 0.0249 - accuracy: 0.9915\n",
            "Epoch 19/25\n",
            "1313/1313 [==============================] - 4s 3ms/step - loss: 0.0242 - accuracy: 0.9921\n",
            "Epoch 20/25\n",
            "1313/1313 [==============================] - 3s 2ms/step - loss: 0.0189 - accuracy: 0.9940\n",
            "Epoch 21/25\n",
            "1313/1313 [==============================] - 3s 2ms/step - loss: 0.0205 - accuracy: 0.9926\n",
            "Epoch 22/25\n",
            "1313/1313 [==============================] - 3s 2ms/step - loss: 0.0185 - accuracy: 0.9941\n",
            "Epoch 23/25\n",
            "1313/1313 [==============================] - 3s 2ms/step - loss: 0.0237 - accuracy: 0.9926\n",
            "Epoch 24/25\n",
            "1313/1313 [==============================] - 2s 2ms/step - loss: 0.0209 - accuracy: 0.9934\n",
            "Epoch 25/25\n",
            "1313/1313 [==============================] - 3s 2ms/step - loss: 0.0217 - accuracy: 0.9933\n"
          ]
        },
        {
          "output_type": "execute_result",
          "data": {
            "text/plain": [
              "<keras.callbacks.History at 0x7f0d91163310>"
            ]
          },
          "metadata": {},
          "execution_count": 8
        }
      ]
    },
    {
      "cell_type": "code",
      "source": [
        "y_pred = ann.predict(X_test)\n",
        "y_pred.shape\n",
        "slno= []\n",
        "pred= []\n",
        "for i in range(28000):\n",
        "  slno.append(i+1)\n",
        "for i in range(28000):\n",
        "  pred.append(np.argmax(y_pred[i,:]))\n",
        "Pred = np.asarray(pred)\n",
        "Slno = np.asarray(slno)\n",
        "results = np.concatenate((Slno.reshape(len(Slno),1), Pred.reshape(len(Pred),1)),1)\n",
        "print(results)"
      ],
      "metadata": {
        "colab": {
          "base_uri": "https://localhost:8080/"
        },
        "id": "ToyoVMj0-Yh7",
        "outputId": "93bfc415-4958-46e1-a080-5b036c22ab0f"
      },
      "execution_count": 29,
      "outputs": [
        {
          "output_type": "stream",
          "name": "stdout",
          "text": [
            "[[    1     2]\n",
            " [    2     0]\n",
            " [    3     9]\n",
            " ...\n",
            " [27998     3]\n",
            " [27999     9]\n",
            " [28000     2]]\n"
          ]
        }
      ]
    },
    {
      "cell_type": "code",
      "source": [
        "np.savetxt(\"ANN.xlsx\", results, delimiter=\",\")"
      ],
      "metadata": {
        "id": "MHCcRde2zVcM"
      },
      "execution_count": 33,
      "outputs": []
    }
  ]
}